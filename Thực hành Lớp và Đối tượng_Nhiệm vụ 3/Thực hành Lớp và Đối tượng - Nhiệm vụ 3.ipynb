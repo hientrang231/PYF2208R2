{
 "cells": [
  {
   "cell_type": "code",
   "execution_count": null,
   "id": "a42fa0c7",
   "metadata": {},
   "outputs": [],
   "source": [
    "\"\"\"\n",
    "Tạo class có tên SoHoc gồm có các thuộc tính và phương thức sau:\n",
    "+ Thuộc tính: number1, number2\n",
    "+ Phương thức:\n",
    "- Phương thức tạo __init()__\n",
    "- Các phương thức get, set cho tất cả các thuộc tính\n",
    "- input_info(): dùng để nhập 2 số number1, number2\n",
    "- print_info(): dùng để hiển thị number1, number2\n",
    "- addition(): dùng để cộng number1, number2\n",
    "- subtract(): trừ number1, number2\n",
    "- multi(): dùng để nhân number1, number2\n",
    "- division(): dùng để chia number1, number2.\n",
    "\n",
    "Sau khi tạo class, khởi tạo một object SoHoc và in ra kết quả tính toán từ các hàm thực hiện phép tính\n",
    "\"\"\""
   ]
  },
  {
   "cell_type": "code",
   "execution_count": 4,
   "id": "f7770aa7",
   "metadata": {},
   "outputs": [
    {
     "name": "stdout",
     "output_type": "stream",
     "text": [
      "Input number1: 100\n",
      "Input number2: 30\n",
      "============================\n",
      "Number 1 is: 100\n",
      "Number 2 is: 30\n",
      "============================\n",
      "100 + 30 = 130\n",
      "100 - 30 = 70\n",
      "100 * 30 = 3000\n",
      "100 / 30 = 3.3333333333333335\n"
     ]
    }
   ],
   "source": [
    "class SoHoc:\n",
    "    def __init__(self):\n",
    "        self.number1=0\n",
    "        self.number2=0\n",
    "    \n",
    "    def input_info(self):\n",
    "        self.number1=int(input('Input number1: '))\n",
    "        self.number2=int(input('Input number2: '))\n",
    "        \n",
    "    def print_info(self):\n",
    "        print('============================')\n",
    "        print(f'Number 1 is: {self.number1}')\n",
    "        print(f'Number 2 is: {self.number2}')\n",
    "        print('============================')\n",
    "        \n",
    "    def addition(self):\n",
    "        return self.number1 + self.number2\n",
    "    \n",
    "    def subtract(self):\n",
    "        return self.number1 - self.number2\n",
    "    \n",
    "    def multi(self):\n",
    "        return self.number1 * self.number2\n",
    "    \n",
    "    def division(self):\n",
    "        return self.number1 / self.number2\n",
    "\n",
    "sohoc = SoHoc()\n",
    "sohoc.input_info()\n",
    "sohoc.print_info()\n",
    "print(f'{sohoc.number1} + {sohoc.number2} = {sohoc.addition()}')\n",
    "print(f'{sohoc.number1} - {sohoc.number2} = {sohoc.subtract()}')\n",
    "print(f'{sohoc.number1} * {sohoc.number2} = {sohoc.multi()}')\n",
    "print(f'{sohoc.number1} / {sohoc.number2} = {sohoc.division()}')"
   ]
  }
 ],
 "metadata": {
  "kernelspec": {
   "display_name": "Python 3 (ipykernel)",
   "language": "python",
   "name": "python3"
  },
  "language_info": {
   "codemirror_mode": {
    "name": "ipython",
    "version": 3
   },
   "file_extension": ".py",
   "mimetype": "text/x-python",
   "name": "python",
   "nbconvert_exporter": "python",
   "pygments_lexer": "ipython3",
   "version": "3.10.7"
  }
 },
 "nbformat": 4,
 "nbformat_minor": 5
}
