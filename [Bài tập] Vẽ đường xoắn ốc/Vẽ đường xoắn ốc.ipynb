{
 "cells": [
  {
   "cell_type": "code",
   "execution_count": 1,
   "id": "caecb44d",
   "metadata": {},
   "outputs": [
    {
     "name": "stdout",
     "output_type": "stream",
     "text": [
      "Nhap khoang cach: 20\n"
     ]
    },
    {
     "name": "stderr",
     "output_type": "stream",
     "text": [
      "2022-11-14 11:02:14.931 Python[19512:2180053] IMKClient Stall detected, *please Report* your user scenario attaching a spindump (or sysdiagnose) that captures the problem - (imkxpc_presentFunctionRowItemTextInputViewWithEndpoint:reply:) block performed very slowly (3.33 secs).\n"
     ]
    }
   ],
   "source": [
    "import turtle\n",
    "pen=turtle.Turtle()\n",
    "khoang_cach=int(input('Nhap khoang cach: '))\n",
    "count=1\n",
    "r=2\n",
    "\n",
    "while count<khoang_cach:\n",
    "    r+=5\n",
    "    pen.circle(r,180)\n",
    "    count+=1\n",
    "\n",
    "turtle.done()"
   ]
  }
 ],
 "metadata": {
  "kernelspec": {
   "display_name": "Python 3 (ipykernel)",
   "language": "python",
   "name": "python3"
  },
  "language_info": {
   "codemirror_mode": {
    "name": "ipython",
    "version": 3
   },
   "file_extension": ".py",
   "mimetype": "text/x-python",
   "name": "python",
   "nbconvert_exporter": "python",
   "pygments_lexer": "ipython3",
   "version": "3.10.7"
  }
 },
 "nbformat": 4,
 "nbformat_minor": 5
}
