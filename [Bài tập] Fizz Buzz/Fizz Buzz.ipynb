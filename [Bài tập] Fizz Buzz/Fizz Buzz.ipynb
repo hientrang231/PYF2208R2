{
 "cells": [
  {
   "cell_type": "markdown",
   "id": "bb5b933f",
   "metadata": {},
   "source": [
    "Viết chương trình lấy đầu vào là hai số nguyên: đầu và cuối khoảng (cả hai số đều thuộc khoảng).\n",
    "Chương trình sẽ in ra các số trong khoảng này. Nhưng nếu số đó chia hết cho 3, bạn sẽ in ra “Fizz” thay vì nó, nếu số đó chia hết cho 5, in ra “Buzz” và nếu số đó chia hết cho cả 3 và 5, hãy in ra “FizzBuzz”."
   ]
  },
  {
   "cell_type": "code",
   "execution_count": 3,
   "id": "d19d90c2",
   "metadata": {},
   "outputs": [
    {
     "name": "stdout",
     "output_type": "stream",
     "text": [
      "Nhập vào số a: 2\n",
      "Nhập vào số b: 23\n",
      "2\n",
      "3 Fizz\n",
      "4\n",
      "5 Buzz\n",
      "6 Fizz\n",
      "7\n",
      "8\n",
      "9 Fizz\n",
      "10 Buzz\n",
      "11\n",
      "12 Fizz\n",
      "13\n",
      "14\n",
      "15 FizzBuzz\n",
      "16\n",
      "17\n",
      "18 Fizz\n",
      "19\n",
      "20 Buzz\n",
      "21 Fizz\n",
      "22\n",
      "23\n"
     ]
    }
   ],
   "source": [
    "a = int(input(\"Nhập vào số a: \"))\n",
    "b = int(input(\"Nhập vào số b: \"))\n",
    "if a > b:\n",
    "    for i in range(b,a+1):\n",
    "        if i%3 == 0 and i%5 == 0:\n",
    "            print(i,\"FizzBuzz\")\n",
    "        elif i%3 == 0:\n",
    "            print(i,\"Fizz\")\n",
    "        elif i%5 == 0:\n",
    "            print(i,\"Buzz\")\n",
    "        else:\n",
    "            print(i)\n",
    "if b > a:\n",
    "    for i in range(a,b+1):\n",
    "        if i%3 == 0 and i%5 == 0:\n",
    "            print(i,\"FizzBuzz\")\n",
    "        elif i%3 == 0:\n",
    "            print(i,\"Fizz\")\n",
    "        elif i%5 == 0:\n",
    "            print(i,\"Buzz\")\n",
    "        else:\n",
    "            print(i)"
   ]
  }
 ],
 "metadata": {
  "kernelspec": {
   "display_name": "Python 3 (ipykernel)",
   "language": "python",
   "name": "python3"
  },
  "language_info": {
   "codemirror_mode": {
    "name": "ipython",
    "version": 3
   },
   "file_extension": ".py",
   "mimetype": "text/x-python",
   "name": "python",
   "nbconvert_exporter": "python",
   "pygments_lexer": "ipython3",
   "version": "3.10.7"
  }
 },
 "nbformat": 4,
 "nbformat_minor": 5
}
