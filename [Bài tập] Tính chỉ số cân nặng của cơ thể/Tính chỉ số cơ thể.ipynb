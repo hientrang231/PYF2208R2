{
 "cells": [
  {
   "cell_type": "code",
   "execution_count": 2,
   "id": "8a3ff405",
   "metadata": {},
   "outputs": [
    {
     "name": "stdout",
     "output_type": "stream",
     "text": [
      "Nhập vào chiều cao tính bằng m: 156\n",
      "Nhập vào cân nặng tính bằng kg: 45\n",
      "Gầy cấp độ III\n"
     ]
    }
   ],
   "source": [
    "a=int(input('Nhập vào chiều cao tính bằng m: '))\n",
    "b=int(input('Nhập vào cân nặng tính bằng kg: '))\n",
    "BMI=b/(a*a)\n",
    "if (BMI < 16):\n",
    "    print('Gầy cấp độ III')\n",
    "elif (16 <= BMI < 17):\n",
    "    print('Gầy cấp độ II')\n",
    "elif (18.5 <= BMI < 25):\n",
    "    print('Gầy cấp độ I')\n",
    "elif (18.5 <= BMI < 25):\n",
    "    print('Bình thường')\n",
    "elif (25 <= BMI < 30):\n",
    "    print('Thừa cân')\n",
    "elif (30 <= BMI < 35):\n",
    "    print('Béo phì cấp độ I')\n",
    "elif (35 <= BMI < 40):\n",
    "    print('Béo phì cấp độ II')\n",
    "elif (BMI > 40):\n",
    "    print('Béo phì cấp độ III')"
   ]
  }
 ],
 "metadata": {
  "kernelspec": {
   "display_name": "Python 3 (ipykernel)",
   "language": "python",
   "name": "python3"
  },
  "language_info": {
   "codemirror_mode": {
    "name": "ipython",
    "version": 3
   },
   "file_extension": ".py",
   "mimetype": "text/x-python",
   "name": "python",
   "nbconvert_exporter": "python",
   "pygments_lexer": "ipython3",
   "version": "3.10.7"
  }
 },
 "nbformat": 4,
 "nbformat_minor": 5
}
