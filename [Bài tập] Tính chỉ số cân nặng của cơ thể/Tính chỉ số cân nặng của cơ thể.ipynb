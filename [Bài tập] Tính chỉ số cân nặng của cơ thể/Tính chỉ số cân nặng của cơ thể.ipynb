{
 "cells": [
  {
   "cell_type": "code",
   "execution_count": null,
   "id": "4a18fa21",
   "metadata": {},
   "outputs": [],
   "source": [
    "a=int(input('Nhập chiều cao tính bằng mét: '))\n",
    "b=int(input('Nhập cân nặng tính bằng kg: '))\n",
    "BMI=b/a*2\n",
    "if (BMI<16):\n",
    "    print('Gầy cấp độ III')\n",
    "elif (16<=BMI<17):\n",
    "    print('Gầy cấp độ II')\n",
    "elif (17<=BMI<18,5):\n",
    "    print('Gầy cấp độ I')\n",
    "elif (18.5<=BMI<25):\n",
    "    print('Bình thường')\n",
    "elif (25Em <=BMI<30):\n",
    "    print('Thừa cân')\n",
    "elif (30<=BMI<35):\n",
    "    print('Béo phì cấp độ I')\n",
    "elif (35<=BMI<40):\n",
    "    print('Béo phì cấp độ II')\n",
    "elif"
   ]
  }
 ],
 "metadata": {
  "kernelspec": {
   "display_name": "Python 3 (ipykernel)",
   "language": "python",
   "name": "python3"
  },
  "language_info": {
   "codemirror_mode": {
    "name": "ipython",
    "version": 3
   },
   "file_extension": ".py",
   "mimetype": "text/x-python",
   "name": "python",
   "nbconvert_exporter": "python",
   "pygments_lexer": "ipython3",
   "version": "3.10.7"
  }
 },
 "nbformat": 4,
 "nbformat_minor": 5
}
