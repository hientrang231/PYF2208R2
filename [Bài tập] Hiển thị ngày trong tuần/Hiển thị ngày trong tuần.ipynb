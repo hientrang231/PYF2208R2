{
 "cells": [
  {
   "cell_type": "markdown",
   "id": "25ffa33d",
   "metadata": {},
   "source": [
    "Viết chương trình yêu cầu người dùng nhập một số trong phạm vi từ 1 đến 7. Sau đó hãy in ra ngày tương ứng: \n",
    "\n",
    "1: Monday\n",
    "\n",
    "2: Tuesday\n",
    "\n",
    "3: Wednesday\n",
    "\n",
    "4: Thursday\n",
    "\n",
    "5: Friday\n",
    "\n",
    "6: Saturday\n",
    "\n",
    "7: Sunday\n",
    "\n",
    "Nếu người dùng nhập số ngoài phạm vi từ 1 đến 7 thì hãy in ra “error, out of range”."
   ]
  },
  {
   "cell_type": "code",
   "execution_count": 1,
   "id": "d0ca5494",
   "metadata": {},
   "outputs": [
    {
     "name": "stdout",
     "output_type": "stream",
     "text": [
      "Nhập vào số ngày (từ 1 đến 7): 3\n",
      "Wednesday\n"
     ]
    }
   ],
   "source": [
    "week_day=int(input('Nhập vào số ngày (từ 1 đến 7): '))\n",
    "if week_day==1:\n",
    "    print('Monday')\n",
    "elif week_day==2:\n",
    "    print('Tuesday')\n",
    "elif week_day==3:\n",
    "    print('Wednesday')\n",
    "elif week_day==4:\n",
    "    print('Thurday')   \n",
    "elif week_day==5:\n",
    "    print('Friday')\n",
    "elif week_day==6:\n",
    "    print('Saturday')\n",
    "elif week_day==7:\n",
    "    print('Sunday')\n",
    "else:\n",
    "    print(\"Error, out of range\")"
   ]
  }
 ],
 "metadata": {
  "kernelspec": {
   "display_name": "Python 3 (ipykernel)",
   "language": "python",
   "name": "python3"
  },
  "language_info": {
   "codemirror_mode": {
    "name": "ipython",
    "version": 3
   },
   "file_extension": ".py",
   "mimetype": "text/x-python",
   "name": "python",
   "nbconvert_exporter": "python",
   "pygments_lexer": "ipython3",
   "version": "3.10.7"
  }
 },
 "nbformat": 4,
 "nbformat_minor": 5
}
