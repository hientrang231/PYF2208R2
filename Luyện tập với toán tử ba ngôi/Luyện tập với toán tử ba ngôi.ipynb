{
 "cells": [
  {
   "cell_type": "markdown",
   "id": "a260dfaf",
   "metadata": {},
   "source": [
    "Nhập vào 1 số nguyên bất kì. Kiểm tra số nguyên nhập vào có chia hết cho 2 hay không?\n",
    "Nếu chia hết cho 2: số chẵn\n",
    "Nếu không chia hết cho 2 có dư : số lẻ\n",
    "    "
   ]
  },
  {
   "cell_type": "code",
   "execution_count": null,
   "id": "51308d7a",
   "metadata": {},
   "outputs": [],
   "source": [
    "num=int(input('Nhập số nguyên: '))\n",
    "if num%2==0:\n",
    "    print(f'{num} là số chẵn')\n",
    "else:\n",
    "    print(f'{num} là số lẻ')"
   ]
  }
 ],
 "metadata": {
  "kernelspec": {
   "display_name": "Python 3 (ipykernel)",
   "language": "python",
   "name": "python3"
  },
  "language_info": {
   "codemirror_mode": {
    "name": "ipython",
    "version": 3
   },
   "file_extension": ".py",
   "mimetype": "text/x-python",
   "name": "python",
   "nbconvert_exporter": "python",
   "pygments_lexer": "ipython3",
   "version": "3.10.7"
  }
 },
 "nbformat": 4,
 "nbformat_minor": 5
}
