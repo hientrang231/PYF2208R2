{
 "cells": [
  {
   "cell_type": "code",
   "execution_count": 5,
   "id": "c4680702",
   "metadata": {},
   "outputs": [
    {
     "name": "stdout",
     "output_type": "stream",
     "text": [
      "Nhập vào số tiền: 160\n",
      "số tiền thanh toán:  110\n"
     ]
    }
   ],
   "source": [
    "num = int(input('Nhập vào số tiền: '))\n",
    "if num >= 150:\n",
    "    print('số tiền thanh toán: ', num - 50)\n",
    "elif num >= 100:\n",
    "    print('số tiền thanh toán: ', num - 25)\n",
    "elif num >= 75:\n",
    "    print('số tiền thanh toán: ', num - 15)\n",
    "else:\n",
    "    print('số tiền thanh toán: ', num)"
   ]
  }
 ],
 "metadata": {
  "kernelspec": {
   "display_name": "Python 3 (ipykernel)",
   "language": "python",
   "name": "python3"
  },
  "language_info": {
   "codemirror_mode": {
    "name": "ipython",
    "version": 3
   },
   "file_extension": ".py",
   "mimetype": "text/x-python",
   "name": "python",
   "nbconvert_exporter": "python",
   "pygments_lexer": "ipython3",
   "version": "3.10.7"
  }
 },
 "nbformat": 4,
 "nbformat_minor": 5
}
