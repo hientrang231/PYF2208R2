{
 "cells": [
  {
   "cell_type": "markdown",
   "id": "a6748484",
   "metadata": {},
   "source": [
    "Code de in noi dung ra man hinh"
   ]
  },
  {
   "cell_type": "code",
   "execution_count": 3,
   "id": "01f6f911",
   "metadata": {
    "scrolled": false
   },
   "outputs": [
    {
     "name": "stdout",
     "output_type": "stream",
     "text": [
      "Hello world!!!\n"
     ]
    }
   ],
   "source": [
    "print('Hello world!!!')"
   ]
  },
  {
   "cell_type": "code",
   "execution_count": 2,
   "id": "daa069ba",
   "metadata": {},
   "outputs": [
    {
     "name": "stdout",
     "output_type": "stream",
     "text": [
      "PYF2208R\n"
     ]
    }
   ],
   "source": [
    "print('PYF2208R')\n"
   ]
  },
  {
   "cell_type": "code",
   "execution_count": 4,
   "id": "511a5382",
   "metadata": {},
   "outputs": [
    {
     "name": "stdout",
     "output_type": "stream",
     "text": [
      "Hello World\n"
     ]
    }
   ],
   "source": [
    "print('Hello World')\n"
   ]
  },
  {
   "cell_type": "code",
   "execution_count": 6,
   "id": "517951e1",
   "metadata": {
    "scrolled": true
   },
   "outputs": [
    {
     "name": "stdout",
     "output_type": "stream",
     "text": [
      "My name is Trang\n"
     ]
    }
   ],
   "source": [
    "print('My name is Trang')\n"
   ]
  },
  {
   "cell_type": "code",
   "execution_count": 8,
   "id": "35c927ea",
   "metadata": {},
   "outputs": [
    {
     "name": "stdout",
     "output_type": "stream",
     "text": [
      "Im studying Python Fundamental\n"
     ]
    }
   ],
   "source": [
    "print('Im studying Python Fundamental')"
   ]
  }
 ],
 "metadata": {
  "kernelspec": {
   "display_name": "Python 3 (ipykernel)",
   "language": "python",
   "name": "python3"
  },
  "language_info": {
   "codemirror_mode": {
    "name": "ipython",
    "version": 3
   },
   "file_extension": ".py",
   "mimetype": "text/x-python",
   "name": "python",
   "nbconvert_exporter": "python",
   "pygments_lexer": "ipython3",
   "version": "3.10.7"
  }
 },
 "nbformat": 4,
 "nbformat_minor": 5
}
