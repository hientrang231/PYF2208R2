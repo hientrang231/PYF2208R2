{
 "cells": [
  {
   "cell_type": "markdown",
   "id": "2cb00f24",
   "metadata": {},
   "source": [
    "Viết chương trình có khả năng kiểm tra tính chất chẵn lẻ của một số nhập vào. In ra màn hình số nhập vào là số chẵn, số lẽ hay không phải là các trường hợp trên."
   ]
  },
  {
   "cell_type": "code",
   "execution_count": 1,
   "id": "d29b6e70",
   "metadata": {},
   "outputs": [
    {
     "name": "stdout",
     "output_type": "stream",
     "text": [
      "Nhập số nguyên: 23\n",
      "23 là số lẻ\n"
     ]
    }
   ],
   "source": [
    "num=int(input('Nhập số nguyên: '))\n",
    "if num%2==0:\n",
    "    print(f'{num} là số chẵn')\n",
    "else:\n",
    "    print(f'{num} là số lẻ')"
   ]
  }
 ],
 "metadata": {
  "kernelspec": {
   "display_name": "Python 3 (ipykernel)",
   "language": "python",
   "name": "python3"
  },
  "language_info": {
   "codemirror_mode": {
    "name": "ipython",
    "version": 3
   },
   "file_extension": ".py",
   "mimetype": "text/x-python",
   "name": "python",
   "nbconvert_exporter": "python",
   "pygments_lexer": "ipython3",
   "version": "3.10.7"
  }
 },
 "nbformat": 4,
 "nbformat_minor": 5
}
