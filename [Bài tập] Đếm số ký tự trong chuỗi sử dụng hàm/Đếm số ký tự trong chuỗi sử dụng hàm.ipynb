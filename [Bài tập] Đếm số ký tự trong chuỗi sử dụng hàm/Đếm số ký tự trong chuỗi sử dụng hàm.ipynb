{
 "cells": [
  {
   "cell_type": "markdown",
   "id": "cee0ceaa",
   "metadata": {},
   "source": [
    "Viết chương trình cho phép người dùng nhập chuỗi và và hiển thị số ký tự trong chuỗi vừa nhập vào."
   ]
  },
  {
   "cell_type": "code",
   "execution_count": 1,
   "id": "91826482",
   "metadata": {},
   "outputs": [
    {
     "name": "stdout",
     "output_type": "stream",
     "text": [
      "Your string: My name is Trang\n",
      "Length:  16\n"
     ]
    }
   ],
   "source": [
    "input_str = input('Your string: ')\n",
    "def count_chars(txt):\n",
    "    result = 0\n",
    "    for char in txt:\n",
    "        result += 1\n",
    "    return result\n",
    "print('Length: ', count_chars(input_str))"
   ]
  }
 ],
 "metadata": {
  "kernelspec": {
   "display_name": "Python 3 (ipykernel)",
   "language": "python",
   "name": "python3"
  },
  "language_info": {
   "codemirror_mode": {
    "name": "ipython",
    "version": 3
   },
   "file_extension": ".py",
   "mimetype": "text/x-python",
   "name": "python",
   "nbconvert_exporter": "python",
   "pygments_lexer": "ipython3",
   "version": "3.11.0"
  }
 },
 "nbformat": 4,
 "nbformat_minor": 5
}
