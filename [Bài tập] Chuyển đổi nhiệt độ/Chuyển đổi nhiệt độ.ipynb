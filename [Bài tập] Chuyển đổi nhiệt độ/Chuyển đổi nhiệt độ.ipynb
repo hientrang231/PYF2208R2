{
 "cells": [
  {
   "cell_type": "markdown",
   "id": "84a43ef8",
   "metadata": {},
   "source": [
    "Xây dựng chương trình chuyển đổi nhiệt độ từ độ C sang độ F. "
   ]
  },
  {
   "cell_type": "code",
   "execution_count": 3,
   "id": "751414cc",
   "metadata": {
    "scrolled": true
   },
   "outputs": [
    {
     "name": "stdout",
     "output_type": "stream",
     "text": [
      "Nhập độ C: 37\n",
      "Nhiệt độ F:  98.6\n"
     ]
    }
   ],
   "source": [
    "c = input('Nhập độ C: ')\n",
    "f = (9*(int(c))/5)+32\n",
    "print(\"Nhiệt độ F: \", f)"
   ]
  }
 ],
 "metadata": {
  "kernelspec": {
   "display_name": "Python 3 (ipykernel)",
   "language": "python",
   "name": "python3"
  },
  "language_info": {
   "codemirror_mode": {
    "name": "ipython",
    "version": 3
   },
   "file_extension": ".py",
   "mimetype": "text/x-python",
   "name": "python",
   "nbconvert_exporter": "python",
   "pygments_lexer": "ipython3",
   "version": "3.10.7"
  }
 },
 "nbformat": 4,
 "nbformat_minor": 5
}
