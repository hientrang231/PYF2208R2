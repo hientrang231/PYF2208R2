{
 "cells": [
  {
   "cell_type": "code",
   "execution_count": null,
   "id": "1b7705b3",
   "metadata": {},
   "outputs": [],
   "source": [
    "\"\"\"\n",
    "Viết class NhanVien gồm các thuộc tính:\n",
    "+ Tên\n",
    "+ Tuổi\n",
    "+ Địa chỉ\n",
    "+ Tiền lương\n",
    "+ Tổng số giờ làm\n",
    "\n",
    "Và các phương thức:\n",
    "- Phương thức tạo\n",
    "- input_info() : Nhập các thông tin cho nhân viên từ bàn phím\n",
    "- print_info() : In ra tất cả các thông tin của nhân viên\n",
    "- tinh_thuong(): Tính toán và trả về số tiền thưởng của nhân viên theo công thức sau:\n",
    "Nếu tổng số giờ làm của nhân viên >=200 thì thưởng = lương * 20%\n",
    "Nếu tổng số giờ làm của nhân viên <200 và >=100 thì thưởng = lương * 10%\n",
    "Nếu tổng số giờ làm của nhân viên <100 thì thưởng = 0\n",
    "\"\"\""
   ]
  },
  {
   "cell_type": "code",
   "execution_count": 5,
   "id": "3cf0f41d",
   "metadata": {},
   "outputs": [],
   "source": [
    "class NhanVien:\n",
    "    def __init__(self, ten, tuoi, dia_chi, tien_luong, tong_so_gio_lam):\n",
    "        self.ten=''\n",
    "        self.tuoi=18\n",
    "        self.dia_chi=''\n",
    "        self.tien_luong=0\n",
    "        self.tong_so_gio_lam=0\n",
    "        \n",
    "    def input_info(self):\n",
    "        self.ten=input('Nhập tên nhân viên: ')\n",
    "        self.tuoi=int(input('Nhập tuổi nhân viên: '))\n",
    "        self.dia_chi=input('Nhập địa chỉ nhân viên: ')\n",
    "        self.tien_luong=int(input('Nhập tiền lương nhân viên: '))\n",
    "        self.tong_so_gio_lam=float(input('Nhập tổng số giờ làm của nhân viên: '))\n",
    "    \n",
    "    def tinh_thuong(self):\n",
    "        tien_thuong=0\n",
    "        if self.tong_so_gio_lam >= 200:\n",
    "            tien_thuong = self.tien_luong * 0.2\n",
    "        elif self.tong_so_gio_lam >= 100:\n",
    "            tien_thuong = self.tien_luong * 0.1\n",
    "        return tien_thuong\n",
    "        \n",
    "    def print_info(self):\n",
    "        print(f'Họ và tên: {self.ten}')\n",
    "        print(f'Tuoi: {self.tuoi}')\n",
    "        print(f'Dia_chi: {self.dia_chi}')\n",
    "        print(f'Tien_luong: {self.tien_luong}')\n",
    "        print(f'Tong_so_gio_lam: {self.tong_so_gio_lam}')\n",
    "        print(f'Bonus: {self.tinh_thuong()}VND')\n",
    "\n",
    "staff.a=NhanVien()\n",
    "staff.a="
   ]
  }
 ],
 "metadata": {
  "kernelspec": {
   "display_name": "Python 3 (ipykernel)",
   "language": "python",
   "name": "python3"
  },
  "language_info": {
   "codemirror_mode": {
    "name": "ipython",
    "version": 3
   },
   "file_extension": ".py",
   "mimetype": "text/x-python",
   "name": "python",
   "nbconvert_exporter": "python",
   "pygments_lexer": "ipython3",
   "version": "3.10.7"
  }
 },
 "nbformat": 4,
 "nbformat_minor": 5
}
